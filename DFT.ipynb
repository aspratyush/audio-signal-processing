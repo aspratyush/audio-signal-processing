{
 "cells": [
  {
   "cell_type": "markdown",
   "metadata": {},
   "source": [
    "# DFT"
   ]
  },
  {
   "cell_type": "markdown",
   "metadata": {},
   "source": [
    "### DFT using complex sinusoids"
   ]
  },
  {
   "cell_type": "markdown",
   "metadata": {},
   "source": [
    "DFT equation is given by:\n",
    "\n",
    "* $X[k] = \\sum\\limits_{0}^{N-1} x(n) \\ \\mathit{e}^{-j2 \\pi n k/N} , \\ \\ k = 0, \\cdots, N-1$\n",
    "\n",
    "where:\n",
    "\n",
    "n = discrete time instances   \n",
    "k = discrete frequency index   \n",
    "$\\omega_k = 2 \\pi k / N $\n",
    "\n",
    "* Also, $X[k] = \\sum\\limits_{0}^{N-1} x(n) \\ \\mathit{e}^{-j2 \\pi n k/N} = \\langle x, s^{*}_{k} \\rangle$\n",
    "\n",
    "i.e : **DFT is the projection of I/P signal onto a finite set of conjugate complex sinusoids**\n",
    "\n",
    "where:\n",
    "\n",
    "* $s^{*}_{k} = \\mathit{e}^{-j2 \\pi n k/N} = \\cos(2 \\pi n k/N) - j \\sin(2 \\pi n k/N)$, is the complex exponential.\n",
    "* $s^{*}_{k}$ forms the $k^{th}$ complex basis function, and is of the same size as $x(n)$\n",
    "* A non-zero $X[k]$ implies presence of $k^{th}$-frequency in $x(n)$"
   ]
  },
  {
   "cell_type": "markdown",
   "metadata": {},
   "source": [
    "### DFT of real-valued sinusoids"
   ]
  },
  {
   "cell_type": "markdown",
   "metadata": {},
   "source": [
    "$ X[k] = N \\frac{A_{0}}{2}, \\ \\ \\text{for} \\ k = -k_{0}, k_{0}; \\text{zero elsewhere}$"
   ]
  },
  {
   "cell_type": "markdown",
   "metadata": {},
   "source": [
    "### Inverse DFT"
   ]
  },
  {
   "cell_type": "markdown",
   "metadata": {},
   "source": [
    "$ x(n) = \\langle X, s_{k} \\rangle = \\frac{1}{N} \\sum \\limits_{k = 0}^{N-1} X[k] s_{k}[n] \\ \\ \\text{for} \\ k = 0, \\cdots, N-1$\n",
    "\n",
    "* **IDFT is dot product of spectral components and complex sinusoids**\n",
    "* Comparing DFT and IDFT, IDFT **does not** include conjugates of sinunoids, and has normalizing factor"
   ]
  }
 ],
 "metadata": {
  "kernelspec": {
   "display_name": "Python 2",
   "language": "python",
   "name": "python2"
  },
  "language_info": {
   "codemirror_mode": {
    "name": "ipython",
    "version": 2
   },
   "file_extension": ".py",
   "mimetype": "text/x-python",
   "name": "python",
   "nbconvert_exporter": "python",
   "pygments_lexer": "ipython2",
   "version": "2.7.12+"
  }
 },
 "nbformat": 4,
 "nbformat_minor": 2
}
