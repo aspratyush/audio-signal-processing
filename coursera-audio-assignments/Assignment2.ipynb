{
 "cells": [
  {
   "cell_type": "code",
   "execution_count": 2,
   "metadata": {},
   "outputs": [],
   "source": [
    "import numpy as np\n",
    "import matplotlib.pyplot as plt"
   ]
  },
  {
   "cell_type": "code",
   "execution_count": 7,
   "metadata": {
    "collapsed": true
   },
   "outputs": [],
   "source": [
    "## A2P1\n",
    "def genSine(A, f, phi, fs, t):\n",
    "    \"\"\"\n",
    "    Inputs:\n",
    "        A (float) =  amplitude of the sinusoid\n",
    "        f (float) = frequency of the sinusoid in Hz\n",
    "        phi (float) = initial phase of the sinusoid in radians\n",
    "        fs (float) = sampling frequency of the sinusoid in Hz\n",
    "        t (float) =  duration of the sinusoid (is second)\n",
    "    Output:\n",
    "        The function should return a numpy array\n",
    "        x (numpy array) = The generated sinusoid (use np.cos())\n",
    "    \"\"\"\n",
    "    n = np.arange(0,t,1/fs)\n",
    "    x = A*np.cos(2*np.pi*f*n + phi)\n",
    "    return x"
   ]
  },
  {
   "cell_type": "code",
   "execution_count": 18,
   "metadata": {
    "collapsed": true
   },
   "outputs": [],
   "source": [
    "## A2P2\n",
    "def genComplexSine(k, N):\n",
    "    \"\"\"\n",
    "    Inputs:\n",
    "        k (integer) = frequency index of the complex sinusoid of the DFT\n",
    "        N (integer) = length of complex sinusoid in samples\n",
    "    Output:\n",
    "        The function should return a numpy array\n",
    "        cSine (numpy array) = The generated complex sinusoid (length N)\n",
    "    \"\"\"    \n",
    "    n = np.arange(N)/N\n",
    "    cSine = np.exp(-1j*2*np.pi*k*n)\n",
    "    return cSine"
   ]
  },
  {
   "cell_type": "code",
   "execution_count": 29,
   "metadata": {
    "collapsed": true
   },
   "outputs": [],
   "source": [
    "def DFT(x):\n",
    "    \"\"\"\n",
    "    Input:\n",
    "        x (numpy array) = input sequence of length N\n",
    "    Output:\n",
    "        The function should return a numpy array of length N\n",
    "        X (numpy array) = The N point DFT of the input sequence x\n",
    "    \"\"\"\n",
    "    X = []\n",
    "    for k in np.arange(x.size):\n",
    "        # k-th basis vector\n",
    "        s_k = genComplexSine(np.float(k),np.float(x.size))\n",
    "        X = np.append(X,np.sum(x*s_k))\n",
    "    return X"
   ]
  },
  {
   "cell_type": "code",
   "execution_count": 38,
   "metadata": {
    "collapsed": true
   },
   "outputs": [],
   "source": [
    "def IDFT(X):\n",
    "    \"\"\"\n",
    "    Input:\n",
    "        X (numpy array) = frequency spectrum (length N)\n",
    "    Output:\n",
    "        The function should return a numpy array of length N \n",
    "        x (numpy array) = The N point IDFT of the frequency spectrum X\n",
    "    \"\"\"\n",
    "    x = []\n",
    "    for n in np.arange(X.size):\n",
    "        #k-th basis vector\n",
    "        s_k = np.conjugate(genComplexSine(np.float(n), np.float(X.size)))\n",
    "        x = np.append(x,np.sum(X*s_k))\n",
    "    return x/X.size"
   ]
  },
  {
   "cell_type": "code",
   "execution_count": 10,
   "metadata": {},
   "outputs": [
    {
     "name": "stdout",
     "output_type": "stream",
     "text": [
      "[ 0.54030231 -0.63332387 -0.93171798  0.05749049  0.96724906]\n"
     ]
    }
   ],
   "source": [
    "## A2P1\n",
    "A = 1.0\n",
    "f = 10.0\n",
    "phi = 1.0\n",
    "fs = 50.0\n",
    "t = 0.1\n",
    "x = genSine(A,f,phi,fs,t)\n",
    "print x"
   ]
  },
  {
   "cell_type": "code",
   "execution_count": 19,
   "metadata": {},
   "outputs": [
    {
     "name": "stdout",
     "output_type": "stream",
     "text": [
      "5.0\n",
      "[ 1.00000000+0.j          0.30901699-0.95105652j -0.80901699-0.58778525j\n",
      " -0.80901699+0.58778525j  0.30901699+0.95105652j]\n"
     ]
    }
   ],
   "source": [
    "## A2P2\n",
    "k = 1.0\n",
    "N = 5.0\n",
    "cSine = genComplexSine(k=k,N=N)\n",
    "print cSine"
   ]
  },
  {
   "cell_type": "code",
   "execution_count": 36,
   "metadata": {},
   "outputs": [
    {
     "name": "stdout",
     "output_type": "stream",
     "text": [
      "4.0\n",
      "4.0\n",
      "4.0\n",
      "4.0\n",
      "[ 10. +0.00000000e+00j  -2. +2.00000000e+00j  -2. -9.79717439e-16j\n",
      "  -2. -2.00000000e+00j]\n"
     ]
    }
   ],
   "source": [
    "## A2P3\n",
    "x = np.array([1, 2, 3, 4])\n",
    "X1 = DFT(x)\n",
    "print X1"
   ]
  },
  {
   "cell_type": "code",
   "execution_count": 39,
   "metadata": {},
   "outputs": [
    {
     "name": "stdout",
     "output_type": "stream",
     "text": [
      "4.0\n",
      "4.0\n",
      "4.0\n",
      "4.0\n",
      "[  1.00000000e+00 +0.00000000e+00j  -5.55111512e-17 +2.77555756e-17j\n",
      "   0.00000000e+00 +6.12323400e-17j   8.32667268e-17 +1.11022302e-16j]\n",
      "4.0\n",
      "4.0\n",
      "4.0\n",
      "4.0\n",
      "[ 1. -5.55111512e-16j  2. -3.88578059e-16j  3. -5.55111512e-17j\n",
      "  4. +3.33066907e-16j]\n"
     ]
    }
   ],
   "source": [
    "## A2P4\n",
    "X = np.array([1,1,1,1])\n",
    "x = IDFT(X)\n",
    "print x\n",
    "\n",
    "x1 = IDFT(X1)\n",
    "print x1"
   ]
  }
 ],
 "metadata": {
  "kernelspec": {
   "display_name": "Python 2",
   "language": "python",
   "name": "python2"
  },
  "language_info": {
   "codemirror_mode": {
    "name": "ipython",
    "version": 2
   },
   "file_extension": ".py",
   "mimetype": "text/x-python",
   "name": "python",
   "nbconvert_exporter": "python",
   "pygments_lexer": "ipython2",
   "version": "2.7.12+"
  }
 },
 "nbformat": 4,
 "nbformat_minor": 2
}
