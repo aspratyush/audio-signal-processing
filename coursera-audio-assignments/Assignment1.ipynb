{
 "cells": [
  {
   "cell_type": "markdown",
   "metadata": {},
   "source": [
    "# A1_Part1"
   ]
  },
  {
   "cell_type": "code",
   "execution_count": 27,
   "metadata": {
    "collapsed": true
   },
   "outputs": [],
   "source": [
    "import sys\n",
    "import os\n",
    "sys.path.append('../../software/models/')\n",
    "from utilFunctions import wavread"
   ]
  },
  {
   "cell_type": "code",
   "execution_count": 28,
   "metadata": {},
   "outputs": [],
   "source": [
    "\"\"\"\n",
    "A1-Part-1: Reading an audio file\n",
    "\n",
    "Write a function that reads an audio file and returns 10 consecutive samples of the file starting from \n",
    "the 50001th sample. This means that the output should exactly contain the 50001th sample to the 50010th \n",
    "sample (10 samples). \n",
    "\n",
    "The input to the function is the file name (including the path) and the output should be a numpy array \n",
    "containing 10 samples.\n",
    "\n",
    "If you use the wavread function from the utilFunctions module the input samples will be automatically \n",
    "converted to floating point numbers with a range from -1 to 1, which is what we want. \n",
    "\n",
    "Remember that in python, the index of the first sample of an array is 0 and not 1.\n",
    "\n",
    "If you run your code using piano.wav as the input, the function should return the following 10 samples:  \n",
    "array([-0.06213569, -0.04541154, -0.02734458, -0.0093997 ,  0.00769066,\t0.02319407,  0.03503525, \n",
    "0.04309214, 0.04626606,  0.0441908], dtype=float32)\n",
    "\"\"\"\n",
    "\n",
    "def readAudio(inputFile):\n",
    "    \"\"\"\n",
    "    Input:\n",
    "        inputFile: the path to the wav file      \n",
    "    Output:\n",
    "        The function should return a numpy array that contains 10 samples of the audio.\n",
    "    \"\"\"\n",
    "    ## Your code here\n",
    "    # Read the file\n",
    "    Fs, data = wavread(inputFile)\n",
    "    \n",
    "    #extract subset\n",
    "    N = 50000\n",
    "    x = data[N:N+10]\n",
    "    \n",
    "    return x"
   ]
  },
  {
   "cell_type": "code",
   "execution_count": 29,
   "metadata": {},
   "outputs": [
    {
     "name": "stdout",
     "output_type": "stream",
     "text": [
      "[-0.06213569 -0.04541154 -0.02734458 -0.0093997   0.00769066  0.02319407\n",
      "  0.03503525  0.04309214  0.04626606  0.0441908 ]\n"
     ]
    }
   ],
   "source": [
    "print(readAudio('/home/pratyush/workspace/python/audio/sms-tools/sounds/piano.wav'))"
   ]
  },
  {
   "cell_type": "markdown",
   "metadata": {},
   "source": [
    "# A1_Part2"
   ]
  },
  {
   "cell_type": "code",
   "execution_count": 30,
   "metadata": {
    "collapsed": true
   },
   "outputs": [],
   "source": [
    "import sys\n",
    "import os\n",
    "sys.path.append('../../software/models/')\n",
    "from utilFunctions import wavread\n",
    "import numpy as np\n",
    "\n",
    "\"\"\"\n",
    "A1-Part-2: Basic operations with audio\n",
    "\n",
    "Write a function that reads an audio file and returns the minimum and the maximum values of the audio \n",
    "samples in that file. \n",
    "\n",
    "The input to the function is the wav file name (including the path) and the output should be two floating \n",
    "point values returned as a tuple.\n",
    "\n",
    "If you run your code using oboe-A4.wav as the input, the function should return the following output:  \n",
    "(-0.83486432, 0.56501967)\n",
    "\"\"\"\n",
    "def minMaxAudio(inputFile):\n",
    "    \"\"\"\n",
    "    Input:\n",
    "        inputFile: file name of the wav file (including path)\n",
    "    Output:\n",
    "        A tuple of the minimum and the maximum value of the audio samples, like: (min_val, max_val)\n",
    "    \"\"\"\n",
    "    ## Your code here\n",
    "    \n",
    "    # Read the file\n",
    "    Fs, data = wavread( inputFile )\n",
    "    \n",
    "    #find min and max\n",
    "    max_val = np.max( data )\n",
    "    min_val = np.min( data )\n",
    "    \n",
    "    return (min_val, max_val)"
   ]
  },
  {
   "cell_type": "code",
   "execution_count": 31,
   "metadata": {},
   "outputs": [
    {
     "data": {
      "text/plain": [
       "(-0.83486432, 0.56501967)"
      ]
     },
     "execution_count": 31,
     "metadata": {},
     "output_type": "execute_result"
    }
   ],
   "source": [
    "minMaxAudio('/home/pratyush/workspace/python/audio/sms-tools/sounds/oboe-A4.wav')"
   ]
  },
  {
   "cell_type": "markdown",
   "metadata": {},
   "source": [
    "# A1_Part3"
   ]
  },
  {
   "cell_type": "code",
   "execution_count": 34,
   "metadata": {
    "collapsed": true
   },
   "outputs": [],
   "source": [
    "import numpy as np\n",
    "\n",
    "\"\"\"\n",
    "A1-Part-3: Python array indexing\n",
    "\n",
    "Write a function that given a numpy array x, returns every Mth element in x, starting from the \n",
    "first element.  \n",
    "\n",
    "The input arguments to this function are a numpy array x and a positive integer M such that M < number of \n",
    "elements in x. The output of this function should be a numpy array.\n",
    "\n",
    "If you run your code with x = np.arange(10) and M = 2, the function should return the following output: \n",
    "array([0, 2, 4, 6, 8]).\n",
    "\"\"\"\n",
    "def hopSamples(x,M):\n",
    "    \"\"\"\n",
    "    Inputs:\n",
    "        x: input numpy array\n",
    "        M: hop size (positive integer)\n",
    "    Output:\n",
    "        A numpy array containing every Mth element in x, starting from the first element in x.\n",
    "    \"\"\"\n",
    "    ## Your code here\n",
    "    idx = np.arange(0,x.size,M)\n",
    "    x_hopped = x[idx]\n",
    "    return x_hopped"
   ]
  },
  {
   "cell_type": "code",
   "execution_count": 38,
   "metadata": {},
   "outputs": [
    {
     "data": {
      "text/plain": [
       "array([0, 2, 4, 6, 8])"
      ]
     },
     "execution_count": 38,
     "metadata": {},
     "output_type": "execute_result"
    }
   ],
   "source": [
    "x = np.arange(10)\n",
    "M = 2\n",
    "hopSamples(x,M)"
   ]
  }
 ],
 "metadata": {
  "kernelspec": {
   "display_name": "Python 3",
   "language": "python",
   "name": "python3"
  },
  "language_info": {
   "codemirror_mode": {
    "name": "ipython",
    "version": 2
   },
   "file_extension": ".py",
   "mimetype": "text/x-python",
   "name": "python",
   "nbconvert_exporter": "python",
   "pygments_lexer": "ipython2",
   "version": "2.7.12+"
  }
 },
 "nbformat": 4,
 "nbformat_minor": 2
}
